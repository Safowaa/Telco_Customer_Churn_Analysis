{
 "cells": [
  {
   "cell_type": "code",
   "execution_count": 4,
   "metadata": {},
   "outputs": [
    {
     "name": "stdout",
     "output_type": "stream",
     "text": [
      "<class 'sklearn.pipeline.Pipeline'>\n",
      "True\n",
      "Pipeline(steps=[('preprocessor',\n",
      "                 ColumnTransformer(transformers=[('bool',\n",
      "                                                  Pipeline(steps=[('onehot',\n",
      "                                                                   OneHotEncoder(drop='if_binary'))]),\n",
      "                                                  ['Partner', 'Dependents',\n",
      "                                                   'PhoneService',\n",
      "                                                   'MultipleLines',\n",
      "                                                   'OnlineSecurity',\n",
      "                                                   'OnlineBackup',\n",
      "                                                   'DeviceProtection',\n",
      "                                                   'TechSupport', 'StreamingTV',\n",
      "                                                   'StreamingMovies',\n",
      "                                                   'PaperlessBilling']),\n",
      "                                                 ('cat',\n",
      "                                                  Pipeline(steps=[('onehot',\n",
      "                                                                   OneHotEncoder(handle_unknown='ignore'))]),\n",
      "                                                  ['gender', 'InternetService',\n",
      "                                                   'Contract',\n",
      "                                                   'PaymentMethod']),\n",
      "                                                 ('num',\n",
      "                                                  Pipeline(steps=[('scaler',\n",
      "                                                                   StandardScaler())]),\n",
      "                                                  ['tenure', 'MonthlyCharges',\n",
      "                                                   'TotalCharges'])]))])\n"
     ]
    }
   ],
   "source": [
    "import joblib\n",
    "\n",
    "# Load the pipeline\n",
    "preprocessor_pipeline = joblib.load(r'C:\\Users\\Safowaa\\Documents\\Azibiafrica\\AzubiPython\\LP2_Backup\\Models\\preprocessor_pipeline.pkl')\n",
    "\n",
    "# Check the type to ensure it's a Pipeline\n",
    "print(type(preprocessor_pipeline))\n",
    "\n",
    "# Check if it has the 'transform' method\n",
    "print(hasattr(preprocessor_pipeline, 'transform'))\n",
    "\n",
    "# Optionally, inspect the pipeline steps\n",
    "print(preprocessor_pipeline)\n"
   ]
  }
 ],
 "metadata": {
  "kernelspec": {
   "display_name": "virtual",
   "language": "python",
   "name": "python3"
  },
  "language_info": {
   "codemirror_mode": {
    "name": "ipython",
    "version": 3
   },
   "file_extension": ".py",
   "mimetype": "text/x-python",
   "name": "python",
   "nbconvert_exporter": "python",
   "pygments_lexer": "ipython3",
   "version": "3.10.11"
  }
 },
 "nbformat": 4,
 "nbformat_minor": 2
}
